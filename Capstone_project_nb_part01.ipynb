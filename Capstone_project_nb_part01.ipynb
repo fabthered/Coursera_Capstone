{
 "cells": [
  {
   "cell_type": "markdown",
   "metadata": {},
   "source": [
    "## IBM Professional Certificate Data Science"
   ]
  },
  {
   "cell_type": "markdown",
   "metadata": {},
   "source": [
    "This notebook will be used to undertake work for the capstone project of this certificate."
   ]
  },
  {
   "cell_type": "markdown",
   "metadata": {},
   "source": [
    "## Part 1 - Scraping Toronto neighboorhood information"
   ]
  },
  {
   "cell_type": "markdown",
   "metadata": {},
   "source": [
    "Loading libraries"
   ]
  },
  {
   "cell_type": "code",
   "execution_count": 1,
   "metadata": {},
   "outputs": [],
   "source": [
    "import pandas as pd\n",
    "import numpy as np\n",
    "import requests\n",
    "from bs4 import BeautifulSoup"
   ]
  },
  {
   "cell_type": "markdown",
   "metadata": {},
   "source": [
    "Scraping wikipedia page"
   ]
  },
  {
   "cell_type": "code",
   "execution_count": 149,
   "metadata": {},
   "outputs": [],
   "source": [
    "webpage_response = requests.get('https://en.wikipedia.org/wiki/List_of_postal_codes_of_Canada:_M')\n",
    "soup = BeautifulSoup(webpage_response.content, \"html.parser\")\n",
    "#print(soup)"
   ]
  },
  {
   "cell_type": "code",
   "execution_count": 150,
   "metadata": {},
   "outputs": [
    {
     "name": "stdout",
     "output_type": "stream",
     "text": [
      "['M1A\\n', 'Not assigned\\n', '\\n', 'M2A\\n', 'Not assigned\\n', '\\n', 'M3A\\n', 'North York\\n', 'Parkwoods\\n', 'M4A\\n', 'North York\\n', 'Victoria Village\\n', 'M5A\\n', 'Downtown Toronto\\n', 'Regent Park / Harbourfront\\n', 'M6A\\n', 'North York\\n', 'Lawrence Manor / Lawrence Heights\\n', 'M7A\\n', 'Downtown Toronto\\n', \"Queen's Park / Ontario Provincial Government\\n\", 'M8A\\n', 'Not assigned\\n', '\\n', 'M9A\\n', 'Etobicoke\\n', 'Islington Avenue\\n', 'M1B\\n', 'Scarborough\\n', 'Malvern / Rouge\\n', 'M2B\\n', 'Not assigned\\n', '\\n', 'M3B\\n', 'North York\\n', 'Don Mills\\n', 'M4B\\n', 'East York\\n', 'Parkview Hill / Woodbine Gardens\\n', 'M5B\\n', 'Downtown Toronto\\n', 'Garden District, Ryerson\\n', 'M6B\\n', 'North York\\n', 'Glencairn\\n', 'M7B\\n', 'Not assigned\\n', '\\n', 'M8B\\n', 'Not assigned\\n', '\\n', 'M9B\\n', 'Etobicoke\\n', 'West Deane Park / Princess Gardens / Martin Grove / Islington / Cloverdale\\n', 'M1C\\n', 'Scarborough\\n', 'Rouge Hill / Port Union / Highland Creek\\n', 'M2C\\n', 'Not assigned\\n', '\\n', 'M3C\\n', 'North York\\n', 'Don Mills\\n', 'M4C\\n', 'East York\\n', 'Woodbine Heights\\n', 'M5C\\n', 'Downtown Toronto\\n', 'St. James Town\\n', 'M6C\\n', 'York\\n', 'Humewood-Cedarvale\\n', 'M7C\\n', 'Not assigned\\n', '\\n', 'M8C\\n', 'Not assigned\\n', '\\n', 'M9C\\n', 'Etobicoke\\n', 'Eringate / Bloordale Gardens / Old Burnhamthorpe / Markland Wood\\n', 'M1E\\n', 'Scarborough\\n', 'Guildwood / Morningside / West Hill\\n', 'M2E\\n', 'Not assigned\\n', '\\n', 'M3E\\n', 'Not assigned\\n', '\\n', 'M4E\\n', 'East Toronto\\n', 'The Beaches\\n', 'M5E\\n', 'Downtown Toronto\\n', 'Berczy Park\\n', 'M6E\\n', 'York\\n', 'Caledonia-Fairbanks\\n', 'M7E\\n', 'Not assigned\\n', '\\n', 'M8E\\n', 'Not assigned\\n', '\\n', 'M9E\\n', 'Not assigned\\n', '\\n', 'M1G\\n', 'Scarborough\\n', 'Woburn\\n', 'M2G\\n', 'Not assigned\\n', '\\n', 'M3G\\n', 'Not assigned\\n', '\\n', 'M4G\\n', 'East York\\n', 'Leaside\\n', 'M5G\\n', 'Downtown Toronto\\n', 'Central Bay Street\\n', 'M6G\\n', 'Downtown Toronto\\n', 'Christie\\n', 'M7G\\n', 'Not assigned\\n', '\\n', 'M8G\\n', 'Not assigned\\n', '\\n', 'M9G\\n', 'Not assigned\\n', '\\n', 'M1H\\n', 'Scarborough\\n', 'Cedarbrae\\n', 'M2H\\n', 'North York\\n', 'Hillcrest Village\\n', 'M3H\\n', 'North York\\n', 'Bathurst Manor / Wilson Heights / Downsview North\\n', 'M4H\\n', 'East York\\n', 'Thorncliffe Park\\n', 'M5H\\n', 'Downtown Toronto\\n', 'Richmond / Adelaide / King\\n', 'M6H\\n', 'West Toronto\\n', 'Dufferin / Dovercourt Village\\n', 'M7H\\n', 'Not assigned\\n', '\\n', 'M8H\\n', 'Not assigned\\n', '\\n', 'M9H\\n', 'Not assigned\\n', '\\n', 'M1J\\n', 'Scarborough\\n', 'Scarborough Village\\n', 'M2J\\n', 'North York\\n', 'Fairview / Henry Farm / Oriole\\n', 'M3J\\n', 'North York\\n', 'Northwood Park / York University\\n', 'M4J\\n', 'East York\\n', 'East Toronto\\n', 'M5J\\n', 'Downtown Toronto\\n', 'Harbourfront East / Union Station / Toronto Islands\\n', 'M6J\\n', 'West Toronto\\n', 'Little Portugal / Trinity\\n', 'M7J\\n', 'Not assigned\\n', '\\n', 'M8J\\n', 'Not assigned\\n', '\\n', 'M9J\\n', 'Not assigned\\n', '\\n', 'M1K\\n', 'Scarborough\\n', 'Kennedy Park / Ionview / East Birchmount Park\\n', 'M2K\\n', 'North York\\n', 'Bayview Village\\n', 'M3K\\n', 'North York\\n', 'Downsview\\n', 'M4K\\n', 'East Toronto\\n', 'The Danforth West / Riverdale\\n', 'M5K\\n', 'Downtown Toronto\\n', 'Toronto Dominion Centre / Design Exchange\\n', 'M6K\\n', 'West Toronto\\n', 'Brockton / Parkdale Village / Exhibition Place\\n', 'M7K\\n', 'Not assigned\\n', '\\n', 'M8K\\n', 'Not assigned\\n', '\\n', 'M9K\\n', 'Not assigned\\n', '\\n', 'M1L\\n', 'Scarborough\\n', 'Golden Mile / Clairlea / Oakridge\\n', 'M2L\\n', 'North York\\n', 'York Mills / Silver Hills\\n', 'M3L\\n', 'North York\\n', 'Downsview\\n', 'M4L\\n', 'East Toronto\\n', 'India Bazaar / The Beaches West\\n', 'M5L\\n', 'Downtown Toronto\\n', 'Commerce Court / Victoria Hotel\\n', 'M6L\\n', 'North York\\n', 'North Park / Maple Leaf Park / Upwood Park\\n', 'M7L\\n', 'Not assigned\\n', '\\n', 'M8L\\n', 'Not assigned\\n', '\\n', 'M9L\\n', 'North York\\n', 'Humber Summit\\n', 'M1M\\n', 'Scarborough\\n', 'Cliffside / Cliffcrest / Scarborough Village West\\n', 'M2M\\n', 'North York\\n', 'Willowdale / Newtonbrook\\n', 'M3M\\n', 'North York\\n', 'Downsview\\n', 'M4M\\n', 'East Toronto\\n', 'Studio District\\n', 'M5M\\n', 'North York\\n', 'Bedford Park / Lawrence Manor East\\n', 'M6M\\n', 'York\\n', 'Del Ray / Mount Dennis / Keelsdale and Silverthorn\\n', 'M7M\\n', 'Not assigned\\n', '\\n', 'M8M\\n', 'Not assigned\\n', '\\n', 'M9M\\n', 'North York\\n', 'Humberlea / Emery\\n', 'M1N\\n', 'Scarborough\\n', 'Birch Cliff / Cliffside West\\n', 'M2N\\n', 'North York\\n', 'Willowdale\\n', 'M3N\\n', 'North York\\n', 'Downsview\\n', 'M4N\\n', 'Central Toronto\\n', 'Lawrence Park\\n', 'M5N\\n', 'Central Toronto\\n', 'Roselawn\\n', 'M6N\\n', 'York\\n', 'Runnymede / The Junction North\\n', 'M7N\\n', 'Not assigned\\n', '\\n', 'M8N\\n', 'Not assigned\\n', '\\n', 'M9N\\n', 'York\\n', 'Weston\\n', 'M1P\\n', 'Scarborough\\n', 'Dorset Park / Wexford Heights / Scarborough Town Centre\\n', 'M2P\\n', 'North York\\n', 'York Mills West\\n', 'M3P\\n', 'Not assigned\\n', '\\n', 'M4P\\n', 'Central Toronto\\n', 'Davisville North\\n', 'M5P\\n', 'Central Toronto\\n', 'Forest Hill North & West\\n', 'M6P\\n', 'West Toronto\\n', 'High Park / The Junction South\\n', 'M7P\\n', 'Not assigned\\n', '\\n', 'M8P\\n', 'Not assigned\\n', '\\n', 'M9P\\n', 'Etobicoke\\n', 'Westmount\\n', 'M1R\\n', 'Scarborough\\n', 'Wexford / Maryvale\\n', 'M2R\\n', 'North York\\n', 'Willowdale\\n', 'M3R\\n', 'Not assigned\\n', '\\n', 'M4R\\n', 'Central Toronto\\n', 'North Toronto West\\n', 'M5R\\n', 'Central Toronto\\n', 'The Annex / North Midtown / Yorkville\\n', 'M6R\\n', 'West Toronto\\n', 'Parkdale / Roncesvalles\\n', 'M7R\\n', 'Mississauga\\n', 'Canada Post Gateway Processing Centre\\n', 'M8R\\n', 'Not assigned\\n', '\\n', 'M9R\\n', 'Etobicoke\\n', 'Kingsview Village / St. Phillips / Martin Grove Gardens / Richview Gardens\\n', 'M1S\\n', 'Scarborough\\n', 'Agincourt\\n', 'M2S\\n', 'Not assigned\\n', '\\n', 'M3S\\n', 'Not assigned\\n', '\\n', 'M4S\\n', 'Central Toronto\\n', 'Davisville\\n', 'M5S\\n', 'Downtown Toronto\\n', 'University of Toronto / Harbord\\n', 'M6S\\n', 'West Toronto\\n', 'Runnymede / Swansea\\n', 'M7S\\n', 'Not assigned\\n', '\\n', 'M8S\\n', 'Not assigned\\n', '\\n', 'M9S\\n', 'Not assigned\\n', '\\n', 'M1T\\n', 'Scarborough\\n', \"Clarks Corners / Tam O'Shanter / Sullivan\\n\", 'M2T\\n', 'Not assigned\\n', '\\n', 'M3T\\n', 'Not assigned\\n', '\\n', 'M4T\\n', 'Central Toronto\\n', 'Moore Park / Summerhill East\\n', 'M5T\\n', 'Downtown Toronto\\n', 'Kensington Market / Chinatown / Grange Park\\n', 'M6T\\n', 'Not assigned\\n', '\\n', 'M7T\\n', 'Not assigned\\n', '\\n', 'M8T\\n', 'Not assigned\\n', '\\n', 'M9T\\n', 'Not assigned\\n', '\\n', 'M1V\\n', 'Scarborough\\n', \"Milliken / Agincourt North / Steeles East / L'Amoreaux East\\n\", 'M2V\\n', 'Not assigned\\n', '\\n', 'M3V\\n', 'Not assigned\\n', '\\n', 'M4V\\n', 'Central Toronto\\n', 'Summerhill West / Rathnelly / South Hill / Forest Hill SE / Deer Park\\n', 'M5V\\n', 'Downtown Toronto\\n', 'CN Tower / King and Spadina / Railway Lands / Harbourfront West / Bathurst\\n Quay / South Niagara / Island airport\\n\\n', 'M6V\\n', 'Not assigned\\n', '\\n', 'M7V\\n', 'Not assigned\\n', '\\n', 'M8V\\n', 'Etobicoke\\n', 'New Toronto / Mimico South / Humber Bay Shores\\n', 'M9V\\n', 'Etobicoke\\n', 'South Steeles / Silverstone / Humbergate / Jamestown / Mount Olive / Beaumond Heights / Thistletown / Albion Gardens\\n', 'M1W\\n', 'Scarborough\\n', \"Steeles West / L'Amoreaux West\\n\", 'M2W\\n', 'Not assigned\\n', '\\n', 'M3W\\n', 'Not assigned\\n', '\\n', 'M4W\\n', 'Downtown Toronto\\n', 'Rosedale\\n', 'M5W\\n', 'Downtown Toronto\\n', 'Stn A PO Boxes\\n', 'M6W\\n', 'Not assigned\\n', '\\n', 'M7W\\n', 'Not assigned\\n', '\\n', 'M8W\\n', 'Etobicoke\\n', 'Alderwood / Long Branch\\n', 'M9W\\n', 'Etobicoke\\n', 'Northwest\\n', 'M1X\\n', 'Scarborough\\n', 'Upper Rouge\\n', 'M2X\\n', 'Not assigned\\n', '\\n', 'M3X\\n', 'Not assigned\\n', '\\n', 'M4X\\n', 'Downtown Toronto\\n', 'St. James Town / Cabbagetown\\n', 'M5X\\n', 'Downtown Toronto\\n', 'First Canadian Place / Underground city\\n', 'M6X\\n', 'Not assigned\\n', '\\n', 'M7X\\n', 'Not assigned\\n', '\\n', 'M8X\\n', 'Etobicoke\\n', 'The Kingsway / Montgomery Road  / Old Mill North\\n', 'M9X\\n', 'Not assigned\\n', '\\n', 'M1Y\\n', 'Not assigned\\n', '\\n', 'M2Y\\n', 'Not assigned\\n', '\\n', 'M3Y\\n', 'Not assigned\\n', '\\n', 'M4Y\\n', 'Downtown Toronto\\n', 'Church and Wellesley\\n', 'M5Y\\n', 'Not assigned\\n', '\\n', 'M6Y\\n', 'Not assigned\\n', '\\n', 'M7Y\\n', 'East Toronto\\n', 'Business reply mail Processing CentrE\\n', 'M8Y\\n', 'Etobicoke\\n', \"Old Mill South / King's Mill Park / Sunnylea / Humber Bay / Mimico NE / The Queensway East / Royal York South East / Kingsway Park South East\\n\", 'M9Y\\n', 'Not assigned\\n', '\\n', 'M1Z\\n', 'Not assigned\\n', '\\n', 'M2Z\\n', 'Not assigned\\n', '\\n', 'M3Z\\n', 'Not assigned\\n', '\\n', 'M4Z\\n', 'Not assigned\\n', '\\n', 'M5Z\\n', 'Not assigned\\n', '\\n', 'M6Z\\n', 'Not assigned\\n', '\\n', 'M7Z\\n', 'Not assigned\\n', '\\n', 'M8Z\\n', 'Etobicoke\\n', 'Mimico NW / The Queensway West / South of Bloor / Kingsway Park South West / Royal York South West\\n', 'M9Z\\n', 'Not assigned\\n', '\\n']\n"
     ]
    }
   ],
   "source": [
    "# Find the neighborhood table and generate a list of all the text entries\n",
    "table = soup.find('table',{'class':'wikitable'})\n",
    "td = table.find_all('td')\n",
    "list = []\n",
    "for i in td:\n",
    "    txt = i.get_text()\n",
    "    list.append(txt)\n",
    "print(list)\n"
   ]
  },
  {
   "cell_type": "markdown",
   "metadata": {},
   "source": [
    "Building the dataframe from the scrape data"
   ]
  },
  {
   "cell_type": "code",
   "execution_count": 151,
   "metadata": {},
   "outputs": [],
   "source": [
    "# Extracting text into lists for postcodes, boroughs and neighborhoods\n",
    "postcodes = list[::3]\n",
    "boroughs = list[1::3]\n",
    "neighborhoods = list[2::3]\n",
    "\n",
    "# Creating the dataframe from these lists\n",
    "df= pd.DataFrame(columns=['PostalCode','Borough','Neighborhood'])\n",
    "df['PostalCode'] = pd.Series(postcodes)\n",
    "df['Borough'] = pd.Series(boroughs)\n",
    "df['Neighborhood'] = pd.Series(neighborhoods)\n",
    "\n",
    "# Cleaning the dataframe\n",
    "df.replace(regex='\\n',value='', inplace=True)\n",
    "df.replace(regex=' / ',value=' , ', inplace=True)\n",
    "df = df[df['Borough'] != 'Not assigned']"
   ]
  },
  {
   "cell_type": "code",
   "execution_count": 152,
   "metadata": {},
   "outputs": [
    {
     "data": {
      "text/html": [
       "<div>\n",
       "<style scoped>\n",
       "    .dataframe tbody tr th:only-of-type {\n",
       "        vertical-align: middle;\n",
       "    }\n",
       "\n",
       "    .dataframe tbody tr th {\n",
       "        vertical-align: top;\n",
       "    }\n",
       "\n",
       "    .dataframe thead th {\n",
       "        text-align: right;\n",
       "    }\n",
       "</style>\n",
       "<table border=\"1\" class=\"dataframe\">\n",
       "  <thead>\n",
       "    <tr style=\"text-align: right;\">\n",
       "      <th></th>\n",
       "      <th>PostalCode</th>\n",
       "      <th>Borough</th>\n",
       "      <th>Neighborhood</th>\n",
       "    </tr>\n",
       "  </thead>\n",
       "  <tbody>\n",
       "  </tbody>\n",
       "</table>\n",
       "</div>"
      ],
      "text/plain": [
       "Empty DataFrame\n",
       "Columns: [PostalCode, Borough, Neighborhood]\n",
       "Index: []"
      ]
     },
     "execution_count": 152,
     "metadata": {},
     "output_type": "execute_result"
    }
   ],
   "source": [
    "# Search for rows with unassigned neighboords -> there are none\n",
    "df_s = df[df['Neighborhood']=='Not assigned']\n",
    "df_s"
   ]
  },
  {
   "cell_type": "code",
   "execution_count": 153,
   "metadata": {},
   "outputs": [
    {
     "data": {
      "text/html": [
       "<div>\n",
       "<style scoped>\n",
       "    .dataframe tbody tr th:only-of-type {\n",
       "        vertical-align: middle;\n",
       "    }\n",
       "\n",
       "    .dataframe tbody tr th {\n",
       "        vertical-align: top;\n",
       "    }\n",
       "\n",
       "    .dataframe thead th {\n",
       "        text-align: right;\n",
       "    }\n",
       "</style>\n",
       "<table border=\"1\" class=\"dataframe\">\n",
       "  <thead>\n",
       "    <tr style=\"text-align: right;\">\n",
       "      <th></th>\n",
       "      <th>PostalCode</th>\n",
       "      <th>Borough</th>\n",
       "      <th>Neighborhood</th>\n",
       "    </tr>\n",
       "  </thead>\n",
       "  <tbody>\n",
       "    <tr>\n",
       "      <th>2</th>\n",
       "      <td>M3A</td>\n",
       "      <td>North York</td>\n",
       "      <td>Parkwoods</td>\n",
       "    </tr>\n",
       "    <tr>\n",
       "      <th>3</th>\n",
       "      <td>M4A</td>\n",
       "      <td>North York</td>\n",
       "      <td>Victoria Village</td>\n",
       "    </tr>\n",
       "    <tr>\n",
       "      <th>4</th>\n",
       "      <td>M5A</td>\n",
       "      <td>Downtown Toronto</td>\n",
       "      <td>Regent Park , Harbourfront</td>\n",
       "    </tr>\n",
       "    <tr>\n",
       "      <th>5</th>\n",
       "      <td>M6A</td>\n",
       "      <td>North York</td>\n",
       "      <td>Lawrence Manor , Lawrence Heights</td>\n",
       "    </tr>\n",
       "    <tr>\n",
       "      <th>6</th>\n",
       "      <td>M7A</td>\n",
       "      <td>Downtown Toronto</td>\n",
       "      <td>Queen's Park , Ontario Provincial Government</td>\n",
       "    </tr>\n",
       "  </tbody>\n",
       "</table>\n",
       "</div>"
      ],
      "text/plain": [
       "  PostalCode           Borough                                  Neighborhood\n",
       "2        M3A        North York                                     Parkwoods\n",
       "3        M4A        North York                              Victoria Village\n",
       "4        M5A  Downtown Toronto                    Regent Park , Harbourfront\n",
       "5        M6A        North York             Lawrence Manor , Lawrence Heights\n",
       "6        M7A  Downtown Toronto  Queen's Park , Ontario Provincial Government"
      ]
     },
     "execution_count": 153,
     "metadata": {},
     "output_type": "execute_result"
    }
   ],
   "source": [
    "# Display the dataframe\n",
    "df.head()"
   ]
  },
  {
   "cell_type": "code",
   "execution_count": 154,
   "metadata": {},
   "outputs": [
    {
     "name": "stdout",
     "output_type": "stream",
     "text": [
      "The Toronto neighborhood dataframe consists of 103 rows\n"
     ]
    }
   ],
   "source": [
    "# Display the number of rows\n",
    "print('The Toronto neighborhood dataframe consists of {} rows'.format(df.shape[0]))"
   ]
  }
 ],
 "metadata": {
  "kernelspec": {
   "display_name": "Python 3",
   "language": "python",
   "name": "python3"
  },
  "language_info": {
   "codemirror_mode": {
    "name": "ipython",
    "version": 3
   },
   "file_extension": ".py",
   "mimetype": "text/x-python",
   "name": "python",
   "nbconvert_exporter": "python",
   "pygments_lexer": "ipython3",
   "version": "3.7.1"
  }
 },
 "nbformat": 4,
 "nbformat_minor": 4
}
